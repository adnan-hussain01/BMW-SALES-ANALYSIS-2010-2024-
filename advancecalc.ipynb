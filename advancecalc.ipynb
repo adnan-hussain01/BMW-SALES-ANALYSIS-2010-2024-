{
 "cells": [
  {
   "cell_type": "code",
   "execution_count": 1,
   "id": "34e90f4f-0a56-4f29-a532-94cd4fe38c78",
   "metadata": {},
   "outputs": [
    {
     "data": {
      "application/vnd.jupyter.widget-view+json": {
       "model_id": "1e16dad0704e48da8364c2af5fb12a23",
       "version_major": 2,
       "version_minor": 0
      },
      "text/plain": [
       "Text(value='', disabled=True, layout=Layout(height='40px', width='100%'), placeholder='0')"
      ]
     },
     "metadata": {},
     "output_type": "display_data"
    },
    {
     "data": {
      "application/vnd.jupyter.widget-view+json": {
       "model_id": "d1538a23bee743d1be0d452140bb816b",
       "version_major": 2,
       "version_minor": 0
      },
      "text/plain": [
       "HBox(children=(Button(description='7', layout=Layout(height='50px', width='60px'), style=ButtonStyle()), Butto…"
      ]
     },
     "metadata": {},
     "output_type": "display_data"
    },
    {
     "data": {
      "application/vnd.jupyter.widget-view+json": {
       "model_id": "a69d1b1ab9f648a380db507ac5ef626c",
       "version_major": 2,
       "version_minor": 0
      },
      "text/plain": [
       "HBox(children=(Button(description='4', layout=Layout(height='50px', width='60px'), style=ButtonStyle()), Butto…"
      ]
     },
     "metadata": {},
     "output_type": "display_data"
    },
    {
     "data": {
      "application/vnd.jupyter.widget-view+json": {
       "model_id": "a8ddedc53a7440f29de31beb3ea1ed45",
       "version_major": 2,
       "version_minor": 0
      },
      "text/plain": [
       "HBox(children=(Button(description='1', layout=Layout(height='50px', width='60px'), style=ButtonStyle()), Butto…"
      ]
     },
     "metadata": {},
     "output_type": "display_data"
    },
    {
     "data": {
      "application/vnd.jupyter.widget-view+json": {
       "model_id": "81406ebc91424e7bb325f0b2abd43ccd",
       "version_major": 2,
       "version_minor": 0
      },
      "text/plain": [
       "HBox(children=(Button(description='0', layout=Layout(height='50px', width='60px'), style=ButtonStyle()), Butto…"
      ]
     },
     "metadata": {},
     "output_type": "display_data"
    },
    {
     "data": {
      "application/vnd.jupyter.widget-view+json": {
       "model_id": "6a3a7128360c46fdbbb2cb65bc24559a",
       "version_major": 2,
       "version_minor": 0
      },
      "text/plain": [
       "HBox(children=(Button(description='sin', layout=Layout(height='50px', width='60px'), style=ButtonStyle()), But…"
      ]
     },
     "metadata": {},
     "output_type": "display_data"
    },
    {
     "data": {
      "application/vnd.jupyter.widget-view+json": {
       "model_id": "83440f90a5044cd78e9f5dd13613d1bc",
       "version_major": 2,
       "version_minor": 0
      },
      "text/plain": [
       "HBox(children=(Button(description='!', layout=Layout(height='50px', width='60px'), style=ButtonStyle()), Butto…"
      ]
     },
     "metadata": {},
     "output_type": "display_data"
    },
    {
     "data": {
      "application/vnd.jupyter.widget-view+json": {
       "model_id": "f2df66cbcfec4bb09b0e4099f17e16ba",
       "version_major": 2,
       "version_minor": 0
      },
      "text/plain": [
       "HBox(children=(Button(description='MR', layout=Layout(height='50px', width='60px'), style=ButtonStyle()), Butt…"
      ]
     },
     "metadata": {},
     "output_type": "display_data"
    }
   ],
   "source": [
    "import ipywidgets as widgets\n",
    "from IPython.display import display, clear_output\n",
    "import math\n",
    "\n",
    "# Global variables\n",
    "expression = \"\"\n",
    "memory = 0\n",
    "\n",
    "# Display area\n",
    "display_box = widgets.Text(value=\"\", placeholder=\"0\", disabled=True, layout=widgets.Layout(width=\"100%\", height=\"40px\"))\n",
    "\n",
    "# Button layout\n",
    "button_layout = widgets.Layout(width=\"60px\", height=\"50px\")\n",
    "\n",
    "# Update display\n",
    "def update_display():\n",
    "    display_box.value = expression\n",
    "\n",
    "# Button click handler\n",
    "def on_button_click(b):\n",
    "    global expression, memory\n",
    "    text = b.description\n",
    "\n",
    "    try:\n",
    "        if text == \"=\":\n",
    "            # Replace '^' with '**' for power\n",
    "            result = str(eval(expression.replace(\"^\",\"**\")))\n",
    "            expression = result\n",
    "        elif text == \"C\":\n",
    "            expression = \"\"\n",
    "        elif text == \"Del\":\n",
    "            expression = expression[:-1]\n",
    "        elif text == \"√\":\n",
    "            expression = str(math.sqrt(float(expression))) if expression else \"\"\n",
    "        elif text == \"sin\":\n",
    "            expression = str(round(math.sin(math.radians(float(expression))), 6))\n",
    "        elif text == \"cos\":\n",
    "            expression = str(round(math.cos(math.radians(float(expression))), 6))\n",
    "        elif text == \"tan\":\n",
    "            expression = str(round(math.tan(math.radians(float(expression))), 6))\n",
    "        elif text == \"log\":\n",
    "            expression = str(round(math.log10(float(expression)), 6))\n",
    "        elif text == \"ln\":\n",
    "            expression = str(round(math.log(float(expression)), 6))\n",
    "        elif text == \"!\":\n",
    "            expression = str(math.factorial(int(float(expression))))\n",
    "        elif text == \"M+\":\n",
    "            if expression:\n",
    "                memory += float(expression)\n",
    "        elif text == \"M-\":\n",
    "            if expression:\n",
    "                memory -= float(expression)\n",
    "        elif text == \"MR\":\n",
    "            expression = str(memory)\n",
    "        elif text == \"MC\":\n",
    "            memory = 0\n",
    "        elif text == \"π\":\n",
    "            expression += str(math.pi)\n",
    "        elif text == \"e\":\n",
    "            expression += str(math.e)\n",
    "        else:\n",
    "            expression += text\n",
    "    except Exception:\n",
    "        expression = \"Error\"\n",
    "\n",
    "    update_display()\n",
    "\n",
    "# Button labels\n",
    "buttons = [\n",
    "    [\"7\", \"8\", \"9\", \"/\", \"√\"],\n",
    "    [\"4\", \"5\", \"6\", \"*\", \"^\"],\n",
    "    [\"1\", \"2\", \"3\", \"-\", \"π\"],\n",
    "    [\"0\", \".\", \"+\", \"=\", \"e\"],\n",
    "    [\"sin\", \"cos\", \"tan\", \"log\", \"ln\"],\n",
    "    [\"!\", \"C\", \"Del\", \"M+\", \"M-\"],\n",
    "    [\"MR\", \"MC\"]\n",
    "]\n",
    "\n",
    "# Create button widgets\n",
    "button_widgets = []\n",
    "for row in buttons:\n",
    "    row_buttons = []\n",
    "    for label in row:\n",
    "        b = widgets.Button(description=label, layout=button_layout)\n",
    "        b.on_click(on_button_click)\n",
    "        row_buttons.append(b)\n",
    "    button_widgets.append(widgets.HBox(row_buttons))\n",
    "\n",
    "# Display calculator\n",
    "display(display_box)\n",
    "for row in button_widgets:\n",
    "    display(row)\n"
   ]
  },
  {
   "cell_type": "code",
   "execution_count": null,
   "id": "ee2f65ef-66c8-4fb7-9fa5-4f53dc1033fd",
   "metadata": {},
   "outputs": [],
   "source": []
  }
 ],
 "metadata": {
  "kernelspec": {
   "display_name": "Python [conda env:base] *",
   "language": "python",
   "name": "conda-base-py"
  },
  "language_info": {
   "codemirror_mode": {
    "name": "ipython",
    "version": 3
   },
   "file_extension": ".py",
   "mimetype": "text/x-python",
   "name": "python",
   "nbconvert_exporter": "python",
   "pygments_lexer": "ipython3",
   "version": "3.13.5"
  }
 },
 "nbformat": 4,
 "nbformat_minor": 5
}
